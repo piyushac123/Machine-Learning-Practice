{
  "nbformat": 4,
  "nbformat_minor": 5,
  "metadata": {
    "kernelspec": {
      "display_name": "Python 3 (ipykernel)",
      "language": "python",
      "name": "python3"
    },
    "language_info": {
      "codemirror_mode": {
        "name": "ipython",
        "version": 3
      },
      "file_extension": ".py",
      "mimetype": "text/x-python",
      "name": "python",
      "nbconvert_exporter": "python",
      "pygments_lexer": "ipython3",
      "version": "3.8.10"
    },
    "colab": {
      "name": "Scikit-learn-practice.ipynb",
      "provenance": []
    }
  },
  "cells": [
    {
      "cell_type": "code",
      "metadata": {
        "id": "47s8meNbXjLR"
      },
      "source": [
        "import numpy as np\n",
        "import pandas as pd\n",
        "import matplotlib.pyplot as plt\n",
        "from sklearn import datasets"
      ],
      "id": "47s8meNbXjLR",
      "execution_count": 1,
      "outputs": []
    },
    {
      "cell_type": "markdown",
      "metadata": {
        "id": "Tft2ButEb78V"
      },
      "source": [
        "**Reshaping Data**"
      ],
      "id": "Tft2ButEb78V"
    },
    {
      "cell_type": "code",
      "metadata": {
        "colab": {
          "base_uri": "https://localhost:8080/"
        },
        "id": "RLvrNpZdZZ5i",
        "outputId": "e59b9e88-be0a-4878-913a-231466cd06ac"
      },
      "source": [
        "digits = datasets.load_digits()\n",
        "digits.data"
      ],
      "id": "RLvrNpZdZZ5i",
      "execution_count": 10,
      "outputs": [
        {
          "output_type": "execute_result",
          "data": {
            "text/plain": [
              "array([[ 0.,  0.,  5., ...,  0.,  0.,  0.],\n",
              "       [ 0.,  0.,  0., ..., 10.,  0.,  0.],\n",
              "       [ 0.,  0.,  0., ..., 16.,  9.,  0.],\n",
              "       ...,\n",
              "       [ 0.,  0.,  1., ...,  6.,  0.,  0.],\n",
              "       [ 0.,  0.,  2., ..., 12.,  0.,  0.],\n",
              "       [ 0.,  0., 10., ..., 12.,  1.,  0.]])"
            ]
          },
          "metadata": {
            "tags": []
          },
          "execution_count": 10
        }
      ]
    },
    {
      "cell_type": "code",
      "metadata": {
        "colab": {
          "base_uri": "https://localhost:8080/",
          "height": 283
        },
        "id": "MJvGCLAMZkMG",
        "outputId": "7c47f88c-b8c1-45d5-bdb3-7bf359a09e1a"
      },
      "source": [
        "plt.imshow(digits.images[-1], cmap=plt.cm.gray_r)\n",
        "digits.images.shape"
      ],
      "id": "MJvGCLAMZkMG",
      "execution_count": 15,
      "outputs": [
        {
          "output_type": "execute_result",
          "data": {
            "text/plain": [
              "(1797, 8, 8)"
            ]
          },
          "metadata": {
            "tags": []
          },
          "execution_count": 15
        },
        {
          "output_type": "display_data",
          "data": {
            "image/png": "[encoded data removed]",
            "text/plain": [
              "<Figure size 432x288 with 1 Axes>"
            ]
          },
          "metadata": {
            "tags": [],
            "needs_background": "light"
          }
        }
      ]
    },
    {
      "cell_type": "markdown",
      "metadata": {
        "id": "cUO2obIGZ31y"
      },
      "source": [
        "For using dataset to derive inferences we want it in format (n_samples, n_features)"
      ],
      "id": "cUO2obIGZ31y"
    },
    {
      "cell_type": "code",
      "metadata": {
        "colab": {
          "base_uri": "https://localhost:8080/"
        },
        "id": "Vj2dBoPSZle9",
        "outputId": "c557581f-68df-4aa6-b355-3e8a4bccc325"
      },
      "source": [
        "# (1797, 8, 8) -> (1797, 64)\n",
        "data = digits.images.reshape((digits.images.shape[0], -1)) # -1 -> other than digits.images.shape[0] put in 1-D format\n",
        "data.shape"
      ],
      "id": "Vj2dBoPSZle9",
      "execution_count": 21,
      "outputs": [
        {
          "output_type": "execute_result",
          "data": {
            "text/plain": [
              "(1797, 64)"
            ]
          },
          "metadata": {
            "tags": []
          },
          "execution_count": 21
        }
      ]
    },
    {
      "cell_type": "markdown",
      "metadata": {
        "id": "GgCDka4De484"
      },
      "source": [
        "**Estimator**"
      ],
      "id": "GgCDka4De484"
    },
    {
      "cell_type": "code",
      "metadata": {
        "id": "OxF1EH2Cbf94"
      },
      "source": [
        "from sklearn import svm"
      ],
      "id": "OxF1EH2Cbf94",
      "execution_count": 22,
      "outputs": []
    },
    {
      "cell_type": "code",
      "metadata": {
        "id": "TrShVSSXdRAO"
      },
      "source": [
        "estimator = svm.SVC()"
      ],
      "id": "TrShVSSXdRAO",
      "execution_count": 23,
      "outputs": []
    },
    {
      "cell_type": "code",
      "metadata": {
        "id": "lvwcOfB5dja_",
        "outputId": "f5d603c1-6698-4bca-b11b-ab94d7e37d39",
        "colab": {
          "base_uri": "https://localhost:8080/"
        }
      },
      "source": [
        "estimator.fit(digits.data, digits.target)"
      ],
      "id": "lvwcOfB5dja_",
      "execution_count": 24,
      "outputs": [
        {
          "output_type": "execute_result",
          "data": {
            "text/plain": [
              "SVC(C=1.0, break_ties=False, cache_size=200, class_weight=None, coef0=0.0,\n",
              "    decision_function_shape='ovr', degree=3, gamma='scale', kernel='rbf',\n",
              "    max_iter=-1, probability=False, random_state=None, shrinking=True,\n",
              "    tol=0.001, verbose=False)"
            ]
          },
          "metadata": {
            "tags": []
          },
          "execution_count": 24
        }
      ]
    },
    {
      "cell_type": "code",
      "metadata": {
        "id": "wUuOuam1dx1M",
        "outputId": "173a9263-55fc-44f4-b1ab-d3a4b284dde1",
        "colab": {
          "base_uri": "https://localhost:8080/"
        }
      },
      "source": [
        "# estimator.param1 -> param1 is assigned parameters\n",
        "# estimator.param_ -> param_ is estimated parameters\n",
        "print(estimator.kernel, '\\n', estimator.support_vectors_)"
      ],
      "id": "wUuOuam1dx1M",
      "execution_count": 33,
      "outputs": [
        {
          "output_type": "stream",
          "text": [
            "rbf \n",
            " [[ 0.  0. 10. ... 12.  4.  0.]\n",
            " [ 0.  0.  1. ... 12.  1.  0.]\n",
            " [ 0.  0.  2. ...  3.  0.  0.]\n",
            " ...\n",
            " [ 0.  0.  5. ...  5.  0.  0.]\n",
            " [ 0.  0.  4. ...  9.  0.  0.]\n",
            " [ 0.  0.  2. ... 12.  0.  0.]]\n"
          ],
          "name": "stdout"
        }
      ]
    },
    {
      "cell_type": "code",
      "metadata": {
        "id": "WKXn8Gu3d7RN"
      },
      "source": [
        ""
      ],
      "id": "WKXn8Gu3d7RN",
      "execution_count": null,
      "outputs": []
    }
  ]
}