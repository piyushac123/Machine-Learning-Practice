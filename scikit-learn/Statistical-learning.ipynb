{
  "nbformat": 4,
  "nbformat_minor": 5,
  "metadata": {
    "kernelspec": {
      "display_name": "Python 3 (ipykernel)",
      "language": "python",
      "name": "python3"
    },
    "language_info": {
      "codemirror_mode": {
        "name": "ipython",
        "version": 3
      },
      "file_extension": ".py",
      "mimetype": "text/x-python",
      "name": "python",
      "nbconvert_exporter": "python",
      "pygments_lexer": "ipython3",
      "version": "3.8.10"
    },
    "colab": {
      "name": "Scikit-learn-practice.ipynb",
      "provenance": []
    }
  },
  "cells": [
    {
      "cell_type": "code",
      "metadata": {
        "id": "47s8meNbXjLR"
      },
      "source": [
        "import numpy as np\n",
        "import pandas as pd\n",
        "import matplotlib.pyplot as plt\n",
        "from sklearn import datasets"
      ],
      "id": "47s8meNbXjLR",
      "execution_count": 1,
      "outputs": []
    },
    {
      "cell_type": "markdown",
      "metadata": {
        "id": "Tft2ButEb78V"
      },
      "source": [
        "**Reshaping Data**"
      ],
      "id": "Tft2ButEb78V"
    },
    {
      "cell_type": "code",
      "metadata": {
        "colab": {
          "base_uri": "https://localhost:8080/"
        },
        "id": "RLvrNpZdZZ5i",
        "outputId": "f6811883-7fe1-45ca-8e51-70e9942a7d5c"
      },
      "source": [
        "digits = datasets.load_digits()\n",
        "digits.data"
      ],
      "id": "RLvrNpZdZZ5i",
      "execution_count": 2,
      "outputs": [
        {
          "output_type": "execute_result",
          "data": {
            "text/plain": [
              "array([[ 0.,  0.,  5., ...,  0.,  0.,  0.],\n",
              "       [ 0.,  0.,  0., ..., 10.,  0.,  0.],\n",
              "       [ 0.,  0.,  0., ..., 16.,  9.,  0.],\n",
              "       ...,\n",
              "       [ 0.,  0.,  1., ...,  6.,  0.,  0.],\n",
              "       [ 0.,  0.,  2., ..., 12.,  0.,  0.],\n",
              "       [ 0.,  0., 10., ..., 12.,  1.,  0.]])"
            ]
          },
          "metadata": {},
          "execution_count": 2
        }
      ]
    },
    {
      "cell_type": "code",
      "metadata": {
        "colab": {
          "base_uri": "https://localhost:8080/",
          "height": 283
        },
        "id": "MJvGCLAMZkMG",
        "outputId": "6a15b104-faaf-46c1-a163-6584e6574e28"
      },
      "source": [
        "plt.imshow(digits.images[-1], cmap=plt.cm.gray_r)\n",
        "digits.images.shape"
      ],
      "id": "MJvGCLAMZkMG",
      "execution_count": 3,
      "outputs": [
        {
          "output_type": "execute_result",
          "data": {
            "text/plain": [
              "(1797, 8, 8)"
            ]
          },
          "metadata": {},
          "execution_count": 3
        },
        {
          "output_type": "display_data",
          "data": {
            "image/png": "[encoded data removed]",
            "text/plain": [
              "<Figure size 432x288 with 1 Axes>"
            ]
          },
          "metadata": {
            "needs_background": "light"
          }
        }
      ]
    },
    {
      "cell_type": "markdown",
      "metadata": {
        "id": "cUO2obIGZ31y"
      },
      "source": [
        "For using dataset to derive inferences we want it in format (n_samples, n_features)"
      ],
      "id": "cUO2obIGZ31y"
    },
    {
      "cell_type": "code",
      "metadata": {
        "colab": {
          "base_uri": "https://localhost:8080/"
        },
        "id": "Vj2dBoPSZle9",
        "outputId": "3b70a19d-cea8-4ac9-ee37-191de555f03c"
      },
      "source": [
        "# (1797, 8, 8) -> (1797, 64)\n",
        "data = digits.images.reshape((digits.images.shape[0], -1)) # -1 -> other than digits.images.shape[0] put in 1-D format\n",
        "data.shape"
      ],
      "id": "Vj2dBoPSZle9",
      "execution_count": 4,
      "outputs": [
        {
          "output_type": "execute_result",
          "data": {
            "text/plain": [
              "(1797, 64)"
            ]
          },
          "metadata": {},
          "execution_count": 4
        }
      ]
    },
    {
      "cell_type": "markdown",
      "metadata": {
        "id": "GgCDka4De484"
      },
      "source": [
        "**Estimator**"
      ],
      "id": "GgCDka4De484"
    },
    {
      "cell_type": "code",
      "metadata": {
        "id": "OxF1EH2Cbf94"
      },
      "source": [
        "from sklearn import svm"
      ],
      "id": "OxF1EH2Cbf94",
      "execution_count": 5,
      "outputs": []
    },
    {
      "cell_type": "code",
      "metadata": {
        "id": "TrShVSSXdRAO"
      },
      "source": [
        "estimator = svm.SVC()"
      ],
      "id": "TrShVSSXdRAO",
      "execution_count": 6,
      "outputs": []
    },
    {
      "cell_type": "code",
      "metadata": {
        "id": "lvwcOfB5dja_",
        "colab": {
          "base_uri": "https://localhost:8080/"
        },
        "outputId": "b2319ce1-0343-414c-dd1f-38a51224308e"
      },
      "source": [
        "estimator.fit(digits.data, digits.target)"
      ],
      "id": "lvwcOfB5dja_",
      "execution_count": 7,
      "outputs": [
        {
          "output_type": "execute_result",
          "data": {
            "text/plain": [
              "SVC(C=1.0, break_ties=False, cache_size=200, class_weight=None, coef0=0.0,\n",
              "    decision_function_shape='ovr', degree=3, gamma='scale', kernel='rbf',\n",
              "    max_iter=-1, probability=False, random_state=None, shrinking=True,\n",
              "    tol=0.001, verbose=False)"
            ]
          },
          "metadata": {},
          "execution_count": 7
        }
      ]
    },
    {
      "cell_type": "code",
      "metadata": {
        "id": "wUuOuam1dx1M",
        "colab": {
          "base_uri": "https://localhost:8080/"
        },
        "outputId": "9a5529ce-9e5f-4bf3-a7bf-c55f0b0572c7"
      },
      "source": [
        "# estimator.param1 -> param1 is assigned parameters\n",
        "# estimator.param_ -> param_ is estimated parameters\n",
        "print(estimator.kernel, '\\n', estimator.support_vectors_)"
      ],
      "id": "wUuOuam1dx1M",
      "execution_count": 8,
      "outputs": [
        {
          "output_type": "stream",
          "text": [
            "rbf \n",
            " [[ 0.  0. 10. ... 12.  4.  0.]\n",
            " [ 0.  0.  1. ... 12.  1.  0.]\n",
            " [ 0.  0.  2. ...  3.  0.  0.]\n",
            " ...\n",
            " [ 0.  0.  5. ...  5.  0.  0.]\n",
            " [ 0.  0.  4. ...  9.  0.  0.]\n",
            " [ 0.  0.  2. ... 12.  0.  0.]]\n"
          ],
          "name": "stdout"
        }
      ]
    },
    {
      "cell_type": "markdown",
      "metadata": {
        "id": "wQuJOJ_b-soT"
      },
      "source": [
        "K-Nearest Neighbors"
      ],
      "id": "wQuJOJ_b-soT"
    },
    {
      "cell_type": "code",
      "metadata": {
        "id": "WKXn8Gu3d7RN",
        "outputId": "c1ed0996-ba6c-4728-f3d2-2fc57f6e0909",
        "colab": {
          "base_uri": "https://localhost:8080/"
        }
      },
      "source": [
        "iris = datasets.load_iris()\n",
        "print(np.unique(iris.target), np.unique(iris.target_names))"
      ],
      "id": "WKXn8Gu3d7RN",
      "execution_count": 14,
      "outputs": [
        {
          "output_type": "stream",
          "text": [
            "[0 1 2] ['setosa' 'versicolor' 'virginica']\n"
          ],
          "name": "stdout"
        }
      ]
    },
    {
      "cell_type": "code",
      "metadata": {
        "id": "e3ECl9h7_AHd",
        "outputId": "4f827c31-813b-461c-9a9e-de45295eaaa4",
        "colab": {
          "base_uri": "https://localhost:8080/"
        }
      },
      "source": [
        "np.random.seed(0) # pseudo random number generator start with 0\n",
        "indices = np.random.permutation(len(iris.data))\n",
        "indices"
      ],
      "id": "e3ECl9h7_AHd",
      "execution_count": 17,
      "outputs": [
        {
          "output_type": "execute_result",
          "data": {
            "text/plain": [
              "array([114,  62,  33, 107,   7, 100,  40,  86,  76,  71, 134,  51,  73,\n",
              "        54,  63,  37,  78,  90,  45,  16, 121,  66,  24,   8, 126,  22,\n",
              "        44,  97,  93,  26, 137,  84,  27, 127, 132,  59,  18,  83,  61,\n",
              "        92, 112,   2, 141,  43,  10,  60, 116, 144, 119, 108,  69, 135,\n",
              "        56,  80, 123, 133, 106, 146,  50, 147,  85,  30, 101,  94,  64,\n",
              "        89,  91, 125,  48,  13, 111,  95,  20,  15,  52,   3, 149,  98,\n",
              "         6,  68, 109,  96,  12, 102, 120, 104, 128,  46,  11, 110, 124,\n",
              "        41, 148,   1, 113, 139,  42,   4, 129,  17,  38,   5,  53, 143,\n",
              "       105,   0,  34,  28,  55,  75,  35,  23,  74,  31, 118,  57, 131,\n",
              "        65,  32, 138,  14, 122,  19,  29, 130,  49, 136,  99,  82,  79,\n",
              "       115, 145,  72,  77,  25,  81, 140, 142,  39,  58,  88,  70,  87,\n",
              "        36,  21,   9, 103,  67, 117,  47])"
            ]
          },
          "metadata": {},
          "execution_count": 17
        }
      ]
    },
    {
      "cell_type": "code",
      "metadata": {
        "id": "xq7uDo5tDCjv"
      },
      "source": [
        "x_train = iris.data[indices[:-10]]\n",
        "y_train = iris.target[indices[:-10]]\n",
        "x_test = iris.data[indices[-10:]]\n",
        "y_test = iris.target[indices[-10:]]"
      ],
      "id": "xq7uDo5tDCjv",
      "execution_count": 19,
      "outputs": []
    },
    {
      "cell_type": "code",
      "metadata": {
        "id": "VdAAY7C5EkKQ"
      },
      "source": [
        "from sklearn.neighbors import KNeighborsClassifier"
      ],
      "id": "VdAAY7C5EkKQ",
      "execution_count": 20,
      "outputs": []
    },
    {
      "cell_type": "code",
      "metadata": {
        "id": "Xu_EZl2DFjtE"
      },
      "source": [
        "knn = KNeighborsClassifier()"
      ],
      "id": "Xu_EZl2DFjtE",
      "execution_count": 21,
      "outputs": []
    },
    {
      "cell_type": "code",
      "metadata": {
        "id": "prb_mu4_Fm5Q",
        "outputId": "5c077036-84c6-46cd-80e8-fe054a760693",
        "colab": {
          "base_uri": "https://localhost:8080/"
        }
      },
      "source": [
        "knn.fit(x_train, y_train)"
      ],
      "id": "prb_mu4_Fm5Q",
      "execution_count": 22,
      "outputs": [
        {
          "output_type": "execute_result",
          "data": {
            "text/plain": [
              "KNeighborsClassifier(algorithm='auto', leaf_size=30, metric='minkowski',\n",
              "                     metric_params=None, n_jobs=None, n_neighbors=5, p=2,\n",
              "                     weights='uniform')"
            ]
          },
          "metadata": {},
          "execution_count": 22
        }
      ]
    },
    {
      "cell_type": "code",
      "metadata": {
        "id": "XT09T1ohFrXl",
        "outputId": "d9c8797f-7e1a-4236-b3b4-20868767375a",
        "colab": {
          "base_uri": "https://localhost:8080/"
        }
      },
      "source": [
        "knn.predict(x_test)"
      ],
      "id": "XT09T1ohFrXl",
      "execution_count": 23,
      "outputs": [
        {
          "output_type": "execute_result",
          "data": {
            "text/plain": [
              "array([1, 2, 1, 0, 0, 0, 2, 1, 2, 0])"
            ]
          },
          "metadata": {},
          "execution_count": 23
        }
      ]
    },
    {
      "cell_type": "code",
      "metadata": {
        "id": "d2Hac3kCFxWl",
        "outputId": "ba22714e-ffb2-468f-85c1-74000c26667c",
        "colab": {
          "base_uri": "https://localhost:8080/"
        }
      },
      "source": [
        "y_test"
      ],
      "id": "d2Hac3kCFxWl",
      "execution_count": 24,
      "outputs": [
        {
          "output_type": "execute_result",
          "data": {
            "text/plain": [
              "array([1, 1, 1, 0, 0, 0, 2, 1, 2, 0])"
            ]
          },
          "metadata": {},
          "execution_count": 24
        }
      ]
    },
    {
      "cell_type": "code",
      "metadata": {
        "id": "nKC3mYrgF0Ir"
      },
      "source": [
        ""
      ],
      "id": "nKC3mYrgF0Ir",
      "execution_count": null,
      "outputs": []
    }
  ]
}