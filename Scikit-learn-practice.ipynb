{
 "cells": [
  {
   "cell_type": "code",
   "execution_count": 12,
   "id": "9ff859b4",
   "metadata": {},
   "outputs": [],
   "source": [
    "# Setup jupyter notebook for local machine\n",
    "# /home/piyush/Documents/git1/Machine-Learning-Practice/my_project_env/bin/python -m pip install --upgrade pip\n",
    "# virtualenv my_project_env\n",
    "# source my_project_env/bin/activate\n",
    "# pip install jupyter\n",
    "# jupyter notebook\n",
    "# !pip install numpy\n",
    "import numpy as np\n",
    "# !pip install pandas\n",
    "import pandas as pd\n",
    "# !pip install matplotlib\n",
    "import matplotlib as mt\n",
    "# !pip install -U scikit-learn\n",
    "from sklearn import random_projection"
   ]
  },
  {
   "cell_type": "code",
   "execution_count": null,
   "id": "f4e8269d",
   "metadata": {},
   "outputs": [],
   "source": []
  }
 ],
 "metadata": {
  "kernelspec": {
   "display_name": "Python 3 (ipykernel)",
   "language": "python",
   "name": "python3"
  },
  "language_info": {
   "codemirror_mode": {
    "name": "ipython",
    "version": 3
   },
   "file_extension": ".py",
   "mimetype": "text/x-python",
   "name": "python",
   "nbconvert_exporter": "python",
   "pygments_lexer": "ipython3",
   "version": "3.8.10"
  }
 },
 "nbformat": 4,
 "nbformat_minor": 5
}
