{
  "nbformat": 4,
  "nbformat_minor": 5,
  "metadata": {
    "kernelspec": {
      "display_name": "Python 3 (ipykernel)",
      "language": "python",
      "name": "python3"
    },
    "language_info": {
      "codemirror_mode": {
        "name": "ipython",
        "version": 3
      },
      "file_extension": ".py",
      "mimetype": "text/x-python",
      "name": "python",
      "nbconvert_exporter": "python",
      "pygments_lexer": "ipython3",
      "version": "3.8.10"
    },
    "colab": {
      "name": "Scikit-learn-practice.ipynb",
      "provenance": []
    }
  },
  "cells": [
    {
      "cell_type": "code",
      "metadata": {
        "id": "9ff859b4"
      },
      "source": [
        "# Setup jupyter notebook for local machine\n",
        "# /home/piyush/Documents/git1/Machine-Learning-Practice/my_project_env/bin/python -m pip install --upgrade pip\n",
        "# virtualenv my_project_env\n",
        "# source my_project_env/bin/activate\n",
        "# pip install jupyter\n",
        "# jupyter notebook\n",
        "# !pip install numpy\n",
        "import numpy as np\n",
        "# !pip install pandas\n",
        "import pandas as pd\n",
        "# !pip install matplotlib\n",
        "import matplotlib.pyplot as plt\n",
        "# !pip install -U scikit-learn\n",
        "from sklearn import random_projection"
      ],
      "id": "9ff859b4",
      "execution_count": 2,
      "outputs": []
    },
    {
      "cell_type": "markdown",
      "metadata": {
        "id": "zGDzFHWT9RV2"
      },
      "source": [
        "**Loading Dataset**"
      ],
      "id": "zGDzFHWT9RV2"
    },
    {
      "cell_type": "code",
      "metadata": {
        "id": "f4e8269d"
      },
      "source": [
        "from sklearn import datasets"
      ],
      "id": "f4e8269d",
      "execution_count": 3,
      "outputs": []
    },
    {
      "cell_type": "code",
      "metadata": {
        "id": "NAMetUXN7J6h"
      },
      "source": [
        "digits = datasets.load_digits()"
      ],
      "id": "NAMetUXN7J6h",
      "execution_count": 36,
      "outputs": []
    },
    {
      "cell_type": "markdown",
      "metadata": {
        "id": "4obm4jBN8sQK"
      },
      "source": [
        "Data : (n_samples, n_features)"
      ],
      "id": "4obm4jBN8sQK"
    },
    {
      "cell_type": "code",
      "metadata": {
        "colab": {
          "base_uri": "https://localhost:8080/"
        },
        "id": "ABwaWn5372Nj",
        "outputId": "b0144768-2b0b-40bd-f2e8-11ca5ae290d7"
      },
      "source": [
        "print(digits.data)\n",
        "print(digits.data.shape)\n",
        "print(digits.images[0])"
      ],
      "id": "ABwaWn5372Nj",
      "execution_count": 5,
      "outputs": [
        {
          "output_type": "stream",
          "text": [
            "[[ 0.  0.  5. ...  0.  0.  0.]\n",
            " [ 0.  0.  0. ... 10.  0.  0.]\n",
            " [ 0.  0.  0. ... 16.  9.  0.]\n",
            " ...\n",
            " [ 0.  0.  1. ...  6.  0.  0.]\n",
            " [ 0.  0.  2. ... 12.  0.  0.]\n",
            " [ 0.  0. 10. ... 12.  1.  0.]]\n",
            "(1797, 64)\n",
            "[[ 0.  0.  5. 13.  9.  1.  0.  0.]\n",
            " [ 0.  0. 13. 15. 10. 15.  5.  0.]\n",
            " [ 0.  3. 15.  2.  0. 11.  8.  0.]\n",
            " [ 0.  4. 12.  0.  0.  8.  8.  0.]\n",
            " [ 0.  5.  8.  0.  0.  9.  8.  0.]\n",
            " [ 0.  4. 11.  0.  1. 12.  7.  0.]\n",
            " [ 0.  2. 14.  5. 10. 12.  0.  0.]\n",
            " [ 0.  0.  6. 13. 10.  0.  0.  0.]]\n"
          ],
          "name": "stdout"
        }
      ]
    },
    {
      "cell_type": "markdown",
      "metadata": {
        "id": "lzCzf6Lj82AY"
      },
      "source": [
        "Target : (n_samples)"
      ],
      "id": "lzCzf6Lj82AY"
    },
    {
      "cell_type": "code",
      "metadata": {
        "colab": {
          "base_uri": "https://localhost:8080/"
        },
        "id": "F9ZGregn8QG0",
        "outputId": "9a8cc69e-cbfb-4091-e549-fc51359a540e"
      },
      "source": [
        "print(digits.target)\n",
        "print(digits.target.shape)"
      ],
      "id": "F9ZGregn8QG0",
      "execution_count": 6,
      "outputs": [
        {
          "output_type": "stream",
          "text": [
            "[0 1 2 ... 8 9 8]\n",
            "(1797,)\n"
          ],
          "name": "stdout"
        }
      ]
    },
    {
      "cell_type": "markdown",
      "metadata": {
        "id": "UD0hgsivKcrs"
      },
      "source": [
        "**Learning and Predicting**"
      ],
      "id": "UD0hgsivKcrs"
    },
    {
      "cell_type": "code",
      "metadata": {
        "id": "Kahj08TiKdSj"
      },
      "source": [
        "from sklearn import svm\n",
        "from matplotlib import figure"
      ],
      "id": "Kahj08TiKdSj",
      "execution_count": 7,
      "outputs": []
    },
    {
      "cell_type": "markdown",
      "metadata": {
        "id": "BkRA_UeUOqAu"
      },
      "source": [
        "Estimator instance"
      ],
      "id": "BkRA_UeUOqAu"
    },
    {
      "cell_type": "code",
      "metadata": {
        "id": "tSCWqWuVKhe1"
      },
      "source": [
        "# Regularization parameter. The strength of the regularization is inversely proportional to C.\n",
        "clf = svm.SVC(gamma=0.001, C=100.0)"
      ],
      "id": "tSCWqWuVKhe1",
      "execution_count": 8,
      "outputs": []
    },
    {
      "cell_type": "markdown",
      "metadata": {
        "id": "RSK-QVUlRfj-"
      },
      "source": [
        "Plot given data"
      ],
      "id": "RSK-QVUlRfj-"
    },
    {
      "cell_type": "code",
      "metadata": {
        "id": "zZwoLMmOQMNs",
        "colab": {
          "base_uri": "https://localhost:8080/",
          "height": 168
        },
        "outputId": "dcb90941-bc22-4a71-aa6e-5bdd2e85df9e"
      },
      "source": [
        "_, axes = plt.subplots(nrows=1, ncols=4, figsize=(10, 3))\n",
        "for ax, image, label in zip(axes, digits.images, digits.target): # zip\n",
        "  ax.set_axis_off()\n",
        "  ax.imshow(image, cmap=plt.cm.gray_r, interpolation='nearest')\n",
        "  ax.set_title('Training: %i' % label)"
      ],
      "id": "zZwoLMmOQMNs",
      "execution_count": 9,
      "outputs": [
        {
          "output_type": "display_data",
          "data": {
            "image/png": "[encoded data removed]",
            "text/plain": [
              "<Figure size 720x216 with 4 Axes>"
            ]
          },
          "metadata": {
            "tags": [],
            "needs_background": "light"
          }
        }
      ]
    },
    {
      "cell_type": "markdown",
      "metadata": {
        "id": "R2UuygZdOxQm"
      },
      "source": [
        "Learn from model using training data"
      ],
      "id": "R2UuygZdOxQm"
    },
    {
      "cell_type": "code",
      "metadata": {
        "id": "DDO4dXu7LAzd",
        "colab": {
          "base_uri": "https://localhost:8080/"
        },
        "outputId": "8f340f9f-1b01-4b39-a7e0-a65062d89850"
      },
      "source": [
        "clf.fit(digits.data[:-1], digits.target[:-1])"
      ],
      "id": "DDO4dXu7LAzd",
      "execution_count": 10,
      "outputs": [
        {
          "output_type": "execute_result",
          "data": {
            "text/plain": [
              "SVC(C=100.0, break_ties=False, cache_size=200, class_weight=None, coef0=0.0,\n",
              "    decision_function_shape='ovr', degree=3, gamma=0.001, kernel='rbf',\n",
              "    max_iter=-1, probability=False, random_state=None, shrinking=True,\n",
              "    tol=0.001, verbose=False)"
            ]
          },
          "metadata": {
            "tags": []
          },
          "execution_count": 10
        }
      ]
    },
    {
      "cell_type": "markdown",
      "metadata": {
        "id": "0eZ-HD4QPWI4"
      },
      "source": [
        "Predict new value"
      ],
      "id": "0eZ-HD4QPWI4"
    },
    {
      "cell_type": "code",
      "metadata": {
        "id": "JrqcwrgxLa0o"
      },
      "source": [
        "predicted = clf.predict(digits.data[-1:])"
      ],
      "id": "JrqcwrgxLa0o",
      "execution_count": 11,
      "outputs": []
    },
    {
      "cell_type": "markdown",
      "metadata": {
        "id": "oWDYxZRZPd04"
      },
      "source": [
        "Plot predicted data"
      ],
      "id": "oWDYxZRZPd04"
    },
    {
      "cell_type": "code",
      "metadata": {
        "id": "Y3fuJaEULhoK",
        "colab": {
          "base_uri": "https://localhost:8080/",
          "height": 211
        },
        "outputId": "3783673c-9e79-4508-82b5-66307484d6dc"
      },
      "source": [
        "# f = figure.Figure(figsize=(3,3)) # use figure from matplotlib to set size of image\n",
        "plt.figure(1, figsize=(3,3))\n",
        "plt.imshow(digits.images[-1], cmap=plt.cm.gray_r, interpolation='nearest') # imshow is attribute of matplotlib.pyplot\n",
        "# plt.set_title('Prediction: %i' % predicted)\n",
        "plt.show()"
      ],
      "id": "Y3fuJaEULhoK",
      "execution_count": 12,
      "outputs": [
        {
          "output_type": "display_data",
          "data": {
            "image/png": "[encoded data removed]",
            "text/plain": [
              "<Figure size 216x216 with 1 Axes>"
            ]
          },
          "metadata": {
            "tags": [],
            "needs_background": "light"
          }
        }
      ]
    },
    {
      "cell_type": "markdown",
      "metadata": {
        "id": "Ah-L7F59JDfq"
      },
      "source": [
        "**Type Casting**"
      ],
      "id": "Ah-L7F59JDfq"
    },
    {
      "cell_type": "markdown",
      "metadata": {
        "id": "ILwoBJS8JBaF"
      },
      "source": [
        "For Regression"
      ],
      "id": "ILwoBJS8JBaF"
    },
    {
      "cell_type": "code",
      "metadata": {
        "id": "-bZ10Nb2Mq_z"
      },
      "source": [
        "from sklearn import random_projection"
      ],
      "id": "-bZ10Nb2Mq_z",
      "execution_count": 32,
      "outputs": []
    },
    {
      "cell_type": "markdown",
      "metadata": {
        "id": "f8c5-IJ1F72l"
      },
      "source": [
        "Create numpy array of random decimal numbers"
      ],
      "id": "f8c5-IJ1F72l"
    },
    {
      "cell_type": "code",
      "metadata": {
        "colab": {
          "base_uri": "https://localhost:8080/"
        },
        "id": "o2DGWTC7E1ix",
        "outputId": "62876c9e-be01-4f03-ebdc-8922cf019026"
      },
      "source": [
        "rng = np.random.RandomState(0)\n",
        "X = rng.rand(10,2000)\n",
        "# X\n",
        "X = np.array(X, dtype='float32')\n",
        "X.dtype"
      ],
      "id": "o2DGWTC7E1ix",
      "execution_count": 33,
      "outputs": [
        {
          "output_type": "execute_result",
          "data": {
            "text/plain": [
              "dtype('float32')"
            ]
          },
          "metadata": {
            "tags": []
          },
          "execution_count": 33
        }
      ]
    },
    {
      "cell_type": "markdown",
      "metadata": {
        "id": "1-sEsXg0G1aH"
      },
      "source": [
        "X is float32, which is cast to float64 by fit_transform(X) : Regression targets are cast to float64"
      ],
      "id": "1-sEsXg0G1aH"
    },
    {
      "cell_type": "code",
      "metadata": {
        "colab": {
          "base_uri": "https://localhost:8080/"
        },
        "id": "e-U7izPIFOPh",
        "outputId": "6ad9d3e9-fe9d-4989-9073-c4c02eb33f01"
      },
      "source": [
        "# Why?\n",
        "# float32 is a 32 bit number - float64 uses 64 bits. That means that float64's take up twice as much memory - and doing operations on them may be a lot slower in \n",
        "# some machine architectures. However, float64's can represent numbers much more accurately than 32 bit floats. They also allow much larger numbers to be stored.\n",
        "transformer = random_projection.GaussianRandomProjection()\n",
        "X_new = transformer.fit_transform(X)\n",
        "X_new.dtype"
      ],
      "id": "e-U7izPIFOPh",
      "execution_count": 34,
      "outputs": [
        {
          "output_type": "execute_result",
          "data": {
            "text/plain": [
              "dtype('float64')"
            ]
          },
          "metadata": {
            "tags": []
          },
          "execution_count": 34
        }
      ]
    },
    {
      "cell_type": "markdown",
      "metadata": {
        "id": "NFRTnk7sJJTt"
      },
      "source": [
        "For Classification"
      ],
      "id": "NFRTnk7sJJTt"
    },
    {
      "cell_type": "code",
      "metadata": {
        "id": "co9aM3k7IKBV"
      },
      "source": [
        "iris = datasets.load_iris()"
      ],
      "id": "co9aM3k7IKBV",
      "execution_count": 37,
      "outputs": []
    },
    {
      "cell_type": "markdown",
      "metadata": {
        "id": "uLzDdEGaJVy0"
      },
      "source": [
        "returns an integer array, since integer target array was used in fit"
      ],
      "id": "uLzDdEGaJVy0"
    },
    {
      "cell_type": "code",
      "metadata": {
        "colab": {
          "base_uri": "https://localhost:8080/"
        },
        "id": "e-YV80N5GU6e",
        "outputId": "0a837d9a-5590-4698-817b-d9d934ecc8ed"
      },
      "source": [
        "clf = svm.SVC()\n",
        "clf.fit(iris.data[3:], iris.target[3:])\n",
        "list = clf.predict(iris.data[:3])\n",
        "list"
      ],
      "id": "e-YV80N5GU6e",
      "execution_count": 45,
      "outputs": [
        {
          "output_type": "execute_result",
          "data": {
            "text/plain": [
              "array([0, 0, 0])"
            ]
          },
          "metadata": {
            "tags": []
          },
          "execution_count": 45
        }
      ]
    },
    {
      "cell_type": "code",
      "metadata": {
        "colab": {
          "base_uri": "https://localhost:8080/"
        },
        "id": "icoK3EzZImNy",
        "outputId": "4febedd6-35fb-4f6f-c43a-19c99ec5e8d0"
      },
      "source": [
        "iris.target_names"
      ],
      "id": "icoK3EzZImNy",
      "execution_count": 43,
      "outputs": [
        {
          "output_type": "execute_result",
          "data": {
            "text/plain": [
              "array(['setosa', 'versicolor', 'virginica'], dtype='<U10')"
            ]
          },
          "metadata": {
            "tags": []
          },
          "execution_count": 43
        }
      ]
    },
    {
      "cell_type": "markdown",
      "metadata": {
        "id": "pZVWkf0vJcGE"
      },
      "source": [
        "returns an string array, since string target array was used in fit"
      ],
      "id": "pZVWkf0vJcGE"
    },
    {
      "cell_type": "code",
      "metadata": {
        "colab": {
          "base_uri": "https://localhost:8080/"
        },
        "id": "WeV8n4DMH_OO",
        "outputId": "3af76990-2b36-4422-d406-d735c2163737"
      },
      "source": [
        "# clf = svm.SVC()\n",
        "clf.fit(iris.data[3:], iris.target_names[iris.target[3:]])\n",
        "list = clf.predict(iris.data[:3])\n",
        "list"
      ],
      "id": "WeV8n4DMH_OO",
      "execution_count": 46,
      "outputs": [
        {
          "output_type": "execute_result",
          "data": {
            "text/plain": [
              "array(['setosa', 'setosa', 'setosa'], dtype='<U10')"
            ]
          },
          "metadata": {
            "tags": []
          },
          "execution_count": 46
        }
      ]
    },
    {
      "cell_type": "markdown",
      "metadata": {
        "id": "hHJQl7RkKlJN"
      },
      "source": [
        "**Refitting and updating parameters**"
      ],
      "id": "hHJQl7RkKlJN"
    },
    {
      "cell_type": "markdown",
      "metadata": {
        "id": "8rqirnuQKnZl"
      },
      "source": [
        "Calling fit() more than once will overwrite what was learned by any previous fit()"
      ],
      "id": "8rqirnuQKnZl"
    },
    {
      "cell_type": "code",
      "metadata": {
        "id": "JG_xyxB4IzSO"
      },
      "source": [
        "iris = datasets.load_iris()\n",
        "clf = svm.SVC()"
      ],
      "id": "JG_xyxB4IzSO",
      "execution_count": 50,
      "outputs": []
    },
    {
      "cell_type": "markdown",
      "metadata": {
        "id": "RAxV8K73L3Lj"
      },
      "source": [
        "default kernel rbf is first changed to linear"
      ],
      "id": "RAxV8K73L3Lj"
    },
    {
      "cell_type": "code",
      "metadata": {
        "id": "m_ZtcT07KyqI",
        "outputId": "fb7f4ea2-58f4-4d27-cc0d-ab41c7d51e8c",
        "colab": {
          "base_uri": "https://localhost:8080/"
        }
      },
      "source": [
        "clf.set_params(kernel = 'linear').fit(iris.data[3:], iris.target[3:])\n",
        "predicted = clf.predict(iris.data[:3])\n",
        "predicted"
      ],
      "id": "m_ZtcT07KyqI",
      "execution_count": 52,
      "outputs": [
        {
          "output_type": "execute_result",
          "data": {
            "text/plain": [
              "array([0, 0, 0])"
            ]
          },
          "metadata": {
            "tags": []
          },
          "execution_count": 52
        }
      ]
    },
    {
      "cell_type": "markdown",
      "metadata": {
        "id": "LXE-o2iVL_Jg"
      },
      "source": [
        "changed back to rbf to refit the estimator"
      ],
      "id": "LXE-o2iVL_Jg"
    },
    {
      "cell_type": "code",
      "metadata": {
        "id": "lcP64T9UK3Ce",
        "outputId": "9107d49e-71a2-41e9-992f-929e61d41582",
        "colab": {
          "base_uri": "https://localhost:8080/"
        }
      },
      "source": [
        "clf.set_params(kernel = 'rbf').fit(iris.data[3:], iris.target[3:])\n",
        "predicted = clf.predict(iris.data[:3])\n",
        "predicted"
      ],
      "id": "lcP64T9UK3Ce",
      "execution_count": 53,
      "outputs": [
        {
          "output_type": "execute_result",
          "data": {
            "text/plain": [
              "array([0, 0, 0])"
            ]
          },
          "metadata": {
            "tags": []
          },
          "execution_count": 53
        }
      ]
    },
    {
      "cell_type": "code",
      "metadata": {
        "id": "u-T7IMVYLuOr"
      },
      "source": [
        ""
      ],
      "id": "u-T7IMVYLuOr",
      "execution_count": null,
      "outputs": []
    }
  ]
}