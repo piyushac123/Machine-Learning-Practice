{
  "nbformat": 4,
  "nbformat_minor": 5,
  "metadata": {
    "kernelspec": {
      "display_name": "Python 3 (ipykernel)",
      "language": "python",
      "name": "python3"
    },
    "language_info": {
      "codemirror_mode": {
        "name": "ipython",
        "version": 3
      },
      "file_extension": ".py",
      "mimetype": "text/x-python",
      "name": "python",
      "nbconvert_exporter": "python",
      "pygments_lexer": "ipython3",
      "version": "3.8.10"
    },
    "colab": {
      "name": "Scikit-learn-practice.ipynb",
      "provenance": []
    }
  },
  "cells": [
    {
      "cell_type": "code",
      "metadata": {
        "id": "9ff859b4"
      },
      "source": [
        "# Setup jupyter notebook for local machine\n",
        "# /home/piyush/Documents/git1/Machine-Learning-Practice/my_project_env/bin/python -m pip install --upgrade pip\n",
        "# virtualenv my_project_env\n",
        "# source my_project_env/bin/activate\n",
        "# pip install jupyter\n",
        "# jupyter notebook\n",
        "# !pip install numpy\n",
        "import numpy as np\n",
        "# !pip install pandas\n",
        "import pandas as pd\n",
        "# !pip install matplotlib\n",
        "import matplotlib.pyplot as plt\n",
        "# !pip install -U scikit-learn\n",
        "from sklearn import random_projection"
      ],
      "id": "9ff859b4",
      "execution_count": 19,
      "outputs": []
    },
    {
      "cell_type": "markdown",
      "metadata": {
        "id": "zGDzFHWT9RV2"
      },
      "source": [
        "**LOADING DATASET**"
      ],
      "id": "zGDzFHWT9RV2"
    },
    {
      "cell_type": "code",
      "metadata": {
        "id": "f4e8269d"
      },
      "source": [
        "from sklearn import datasets"
      ],
      "id": "f4e8269d",
      "execution_count": 24,
      "outputs": []
    },
    {
      "cell_type": "code",
      "metadata": {
        "id": "NAMetUXN7J6h"
      },
      "source": [
        "iris = datasets.load_iris()\n",
        "digits = datasets.load_digits()"
      ],
      "id": "NAMetUXN7J6h",
      "execution_count": 25,
      "outputs": []
    },
    {
      "cell_type": "markdown",
      "metadata": {
        "id": "4obm4jBN8sQK"
      },
      "source": [
        "Data : (n_samples, n_features)"
      ],
      "id": "4obm4jBN8sQK"
    },
    {
      "cell_type": "code",
      "metadata": {
        "colab": {
          "base_uri": "https://localhost:8080/"
        },
        "id": "ABwaWn5372Nj",
        "outputId": "e459b11a-6ccd-4b11-9f0a-0860cd7aef9d"
      },
      "source": [
        "print(digits.data)\n",
        "print(digits.data.shape)\n",
        "print(digits.images[0])"
      ],
      "id": "ABwaWn5372Nj",
      "execution_count": 26,
      "outputs": [
        {
          "output_type": "stream",
          "text": [
            "[[ 0.  0.  5. ...  0.  0.  0.]\n",
            " [ 0.  0.  0. ... 10.  0.  0.]\n",
            " [ 0.  0.  0. ... 16.  9.  0.]\n",
            " ...\n",
            " [ 0.  0.  1. ...  6.  0.  0.]\n",
            " [ 0.  0.  2. ... 12.  0.  0.]\n",
            " [ 0.  0. 10. ... 12.  1.  0.]]\n",
            "(1797, 64)\n",
            "[[ 0.  0.  5. 13.  9.  1.  0.  0.]\n",
            " [ 0.  0. 13. 15. 10. 15.  5.  0.]\n",
            " [ 0.  3. 15.  2.  0. 11.  8.  0.]\n",
            " [ 0.  4. 12.  0.  0.  8.  8.  0.]\n",
            " [ 0.  5.  8.  0.  0.  9.  8.  0.]\n",
            " [ 0.  4. 11.  0.  1. 12.  7.  0.]\n",
            " [ 0.  2. 14.  5. 10. 12.  0.  0.]\n",
            " [ 0.  0.  6. 13. 10.  0.  0.  0.]]\n"
          ],
          "name": "stdout"
        }
      ]
    },
    {
      "cell_type": "markdown",
      "metadata": {
        "id": "lzCzf6Lj82AY"
      },
      "source": [
        "Target : (n_samples)"
      ],
      "id": "lzCzf6Lj82AY"
    },
    {
      "cell_type": "code",
      "metadata": {
        "colab": {
          "base_uri": "https://localhost:8080/"
        },
        "id": "F9ZGregn8QG0",
        "outputId": "cfed44f8-8d13-43ea-eda7-8b0584333bf5"
      },
      "source": [
        "print(digits.target)\n",
        "print(digits.target.shape)"
      ],
      "id": "F9ZGregn8QG0",
      "execution_count": 27,
      "outputs": [
        {
          "output_type": "stream",
          "text": [
            "[0 1 2 ... 8 9 8]\n",
            "(1797,)\n"
          ],
          "name": "stdout"
        }
      ]
    },
    {
      "cell_type": "markdown",
      "metadata": {
        "id": "UD0hgsivKcrs"
      },
      "source": [
        "**Learning and Predicting**"
      ],
      "id": "UD0hgsivKcrs"
    },
    {
      "cell_type": "code",
      "metadata": {
        "id": "Kahj08TiKdSj"
      },
      "source": [
        "from sklearn import svm\n",
        "from matplotlib import figure"
      ],
      "id": "Kahj08TiKdSj",
      "execution_count": 28,
      "outputs": []
    },
    {
      "cell_type": "markdown",
      "metadata": {
        "id": "BkRA_UeUOqAu"
      },
      "source": [
        "Estimator instance"
      ],
      "id": "BkRA_UeUOqAu"
    },
    {
      "cell_type": "code",
      "metadata": {
        "id": "tSCWqWuVKhe1"
      },
      "source": [
        "# Regularization parameter. The strength of the regularization is inversely proportional to C.\n",
        "clf = svm.SVC(gamma=0.001, C=100.0)"
      ],
      "id": "tSCWqWuVKhe1",
      "execution_count": 34,
      "outputs": []
    },
    {
      "cell_type": "markdown",
      "metadata": {
        "id": "RSK-QVUlRfj-"
      },
      "source": [
        "Plot given data"
      ],
      "id": "RSK-QVUlRfj-"
    },
    {
      "cell_type": "code",
      "metadata": {
        "id": "zZwoLMmOQMNs",
        "outputId": "f8e58f08-9f61-4bd7-9d3e-f523ecf40dce",
        "colab": {
          "base_uri": "https://localhost:8080/",
          "height": 168
        }
      },
      "source": [
        "_, axes = plt.subplots(nrows=1, ncols=4, figsize=(10, 3))\n",
        "for ax, image, label in zip(axes, digits.images, digits.target): # zip\n",
        "  ax.set_axis_off()\n",
        "  ax.imshow(image, cmap=plt.cm.gray_r, interpolation='nearest')\n",
        "  ax.set_title('Training: %i' % label)"
      ],
      "id": "zZwoLMmOQMNs",
      "execution_count": 35,
      "outputs": [
        {
          "output_type": "display_data",
          "data": {
            "image/png": "[encoded data removed]",
            "text/plain": [
              "<Figure size 720x216 with 4 Axes>"
            ]
          },
          "metadata": {
            "tags": [],
            "needs_background": "light"
          }
        }
      ]
    },
    {
      "cell_type": "markdown",
      "metadata": {
        "id": "R2UuygZdOxQm"
      },
      "source": [
        "Learn from model using training data"
      ],
      "id": "R2UuygZdOxQm"
    },
    {
      "cell_type": "code",
      "metadata": {
        "id": "DDO4dXu7LAzd",
        "outputId": "1d78856c-f975-4bc4-f870-1dd485d459ba",
        "colab": {
          "base_uri": "https://localhost:8080/"
        }
      },
      "source": [
        "clf.fit(digits.data[:-1], digits.target[:-1])"
      ],
      "id": "DDO4dXu7LAzd",
      "execution_count": 36,
      "outputs": [
        {
          "output_type": "execute_result",
          "data": {
            "text/plain": [
              "SVC(C=100.0, break_ties=False, cache_size=200, class_weight=None, coef0=0.0,\n",
              "    decision_function_shape='ovr', degree=3, gamma=0.001, kernel='rbf',\n",
              "    max_iter=-1, probability=False, random_state=None, shrinking=True,\n",
              "    tol=0.001, verbose=False)"
            ]
          },
          "metadata": {
            "tags": []
          },
          "execution_count": 36
        }
      ]
    },
    {
      "cell_type": "markdown",
      "metadata": {
        "id": "0eZ-HD4QPWI4"
      },
      "source": [
        "Predict new value"
      ],
      "id": "0eZ-HD4QPWI4"
    },
    {
      "cell_type": "code",
      "metadata": {
        "id": "JrqcwrgxLa0o"
      },
      "source": [
        "predicted = clf.predict(digits.data[-1:])"
      ],
      "id": "JrqcwrgxLa0o",
      "execution_count": 37,
      "outputs": []
    },
    {
      "cell_type": "markdown",
      "metadata": {
        "id": "oWDYxZRZPd04"
      },
      "source": [
        "Plot predicted data"
      ],
      "id": "oWDYxZRZPd04"
    },
    {
      "cell_type": "code",
      "metadata": {
        "id": "Y3fuJaEULhoK",
        "outputId": "24c407bc-9ed9-4af6-804e-3c2e0f280cd6",
        "colab": {
          "base_uri": "https://localhost:8080/",
          "height": 211
        }
      },
      "source": [
        "# f = figure.Figure(figsize=(3,3)) # use figure from matplotlib to set size of image\n",
        "plt.figure(1, figsize=(3,3))\n",
        "plt.imshow(digits.images[-1], cmap=plt.cm.gray_r, interpolation='nearest') # imshow is attribute of matplotlib.pyplot\n",
        "# plt.set_title('Prediction: %i' % predicted)\n",
        "plt.show()"
      ],
      "id": "Y3fuJaEULhoK",
      "execution_count": 39,
      "outputs": [
        {
          "output_type": "display_data",
          "data": {
            "image/png": "[encoded data removed]",
            "text/plain": [
              "<Figure size 216x216 with 1 Axes>"
            ]
          },
          "metadata": {
            "tags": [],
            "needs_background": "light"
          }
        }
      ]
    },
    {
      "cell_type": "code",
      "metadata": {
        "id": "-bZ10Nb2Mq_z"
      },
      "source": [
        ""
      ],
      "id": "-bZ10Nb2Mq_z",
      "execution_count": null,
      "outputs": []
    }
  ]
}