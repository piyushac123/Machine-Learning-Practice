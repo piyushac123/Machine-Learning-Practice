{
  "nbformat": 4,
  "nbformat_minor": 5,
  "metadata": {
    "kernelspec": {
      "display_name": "Python 3 (ipykernel)",
      "language": "python",
      "name": "python3"
    },
    "language_info": {
      "codemirror_mode": {
        "name": "ipython",
        "version": 3
      },
      "file_extension": ".py",
      "mimetype": "text/x-python",
      "name": "python",
      "nbconvert_exporter": "python",
      "pygments_lexer": "ipython3",
      "version": "3.8.10"
    },
    "colab": {
      "name": "Scikit-learn-practice.ipynb",
      "provenance": []
    }
  },
  "cells": [
    {
      "cell_type": "code",
      "metadata": {
        "id": "9ff859b4"
      },
      "source": [
        "# Setup jupyter notebook for local machine\n",
        "# /home/piyush/Documents/git1/Machine-Learning-Practice/my_project_env/bin/python -m pip install --upgrade pip\n",
        "# virtualenv my_project_env\n",
        "# source my_project_env/bin/activate\n",
        "# pip install jupyter\n",
        "# jupyter notebook\n",
        "# !pip install numpy\n",
        "import numpy as np\n",
        "# !pip install pandas\n",
        "import pandas as pd\n",
        "# !pip install matplotlib\n",
        "import matplotlib as mt\n",
        "# !pip install -U scikit-learn\n",
        "from sklearn import random_projection"
      ],
      "id": "9ff859b4",
      "execution_count": null,
      "outputs": []
    },
    {
      "cell_type": "markdown",
      "metadata": {
        "id": "zGDzFHWT9RV2"
      },
      "source": [
        "**LOADING DATASET**"
      ],
      "id": "zGDzFHWT9RV2"
    },
    {
      "cell_type": "code",
      "metadata": {
        "id": "f4e8269d"
      },
      "source": [
        "from sklearn import datasets"
      ],
      "id": "f4e8269d",
      "execution_count": 1,
      "outputs": []
    },
    {
      "cell_type": "code",
      "metadata": {
        "id": "NAMetUXN7J6h"
      },
      "source": [
        "iris = datasets.load_iris()\n",
        "digit = datasets.load_digits()"
      ],
      "id": "NAMetUXN7J6h",
      "execution_count": 2,
      "outputs": []
    },
    {
      "cell_type": "markdown",
      "metadata": {
        "id": "4obm4jBN8sQK"
      },
      "source": [
        "Data : (n_samples, n_features)"
      ],
      "id": "4obm4jBN8sQK"
    },
    {
      "cell_type": "code",
      "metadata": {
        "id": "ABwaWn5372Nj",
        "outputId": "2f2f2893-6cbd-46a4-9d42-b93c62704c3d",
        "colab": {
          "base_uri": "https://localhost:8080/"
        }
      },
      "source": [
        "print(digit.data)\n",
        "print(digit.data.shape)\n",
        "print(digit.images[0])"
      ],
      "id": "ABwaWn5372Nj",
      "execution_count": 7,
      "outputs": [
        {
          "output_type": "stream",
          "text": [
            "[[ 0.  0.  5. ...  0.  0.  0.]\n",
            " [ 0.  0.  0. ... 10.  0.  0.]\n",
            " [ 0.  0.  0. ... 16.  9.  0.]\n",
            " ...\n",
            " [ 0.  0.  1. ...  6.  0.  0.]\n",
            " [ 0.  0.  2. ... 12.  0.  0.]\n",
            " [ 0.  0. 10. ... 12.  1.  0.]]\n",
            "(1797, 64)\n",
            "[[ 0.  0.  5. 13.  9.  1.  0.  0.]\n",
            " [ 0.  0. 13. 15. 10. 15.  5.  0.]\n",
            " [ 0.  3. 15.  2.  0. 11.  8.  0.]\n",
            " [ 0.  4. 12.  0.  0.  8.  8.  0.]\n",
            " [ 0.  5.  8.  0.  0.  9.  8.  0.]\n",
            " [ 0.  4. 11.  0.  1. 12.  7.  0.]\n",
            " [ 0.  2. 14.  5. 10. 12.  0.  0.]\n",
            " [ 0.  0.  6. 13. 10.  0.  0.  0.]]\n"
          ],
          "name": "stdout"
        }
      ]
    },
    {
      "cell_type": "markdown",
      "metadata": {
        "id": "lzCzf6Lj82AY"
      },
      "source": [
        "Target : (n_samples)"
      ],
      "id": "lzCzf6Lj82AY"
    },
    {
      "cell_type": "code",
      "metadata": {
        "id": "F9ZGregn8QG0",
        "outputId": "74a95fd3-899f-42e7-80d4-9926fb52e70d",
        "colab": {
          "base_uri": "https://localhost:8080/"
        }
      },
      "source": [
        "print(digit.target)\n",
        "print(digit.target.shape)"
      ],
      "id": "F9ZGregn8QG0",
      "execution_count": 6,
      "outputs": [
        {
          "output_type": "stream",
          "text": [
            "[0 1 2 ... 8 9 8]\n",
            "(1797,)\n"
          ],
          "name": "stdout"
        }
      ]
    }
  ]
}